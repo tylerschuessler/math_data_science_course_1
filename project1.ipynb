{
 "cells": [
  {
   "cell_type": "markdown",
   "metadata": {
    "id": "9fm9P3VE85Y3"
   },
   "source": [
    "Math 5750/6880: Mathematics of Data Science \\\\\n",
    "Project 1"
   ]
  },
  {
   "cell_type": "markdown",
   "metadata": {
    "id": "voDhElnJXDro"
   },
   "source": [
    "# 3. Python and Google Colab\n",
    "Project Euler Problem  \n",
    "https://projecteuler.net/"
   ]
  },
  {
   "cell_type": "code",
   "execution_count": null,
   "metadata": {
    "id": "y_e6lM_NEwwD"
   },
   "outputs": [],
   "source": [
    "# push local changes to github"
   ]
  },
  {
   "cell_type": "markdown",
   "metadata": {
    "id": "riLtqhJEXNOQ"
   },
   "source": [
    "# 4. Regression Analysis\n",
    "California housing data  \n",
    "https://scikit-learn.org/stable/datasets/real_world.html#california-housing-dataset\n"
   ]
  },
  {
   "cell_type": "code",
   "execution_count": null,
   "metadata": {
    "id": "5gtRmgu1kL6x"
   },
   "outputs": [],
   "source": [
    "import numpy as np\n",
    "import matplotlib.pyplot as plt\n",
    "import pandas as pd\n",
    "from sklearn.datasets import fetch_california_housing\n",
    "from sklearn.model_selection import train_test_split"
   ]
  },
  {
   "cell_type": "code",
   "execution_count": null,
   "metadata": {
    "colab": {
     "base_uri": "https://localhost:8080/"
    },
    "id": "YdjNvnAGkRpe",
    "outputId": "b9f703a8-5008-4b11-8dc9-a3636d7efd56"
   },
   "outputs": [
    {
     "name": "stdout",
     "output_type": "stream",
     "text": [
      "Index(['MedInc', 'HouseAge', 'AveRooms', 'AveBedrms', 'Population', 'AveOccup',\n",
      "       'Latitude', 'Longitude'],\n",
      "      dtype='object')\n"
     ]
    }
   ],
   "source": [
    "# Load the California housing data\n",
    "cal = fetch_california_housing(as_frame=True)\n",
    "X, y = cal.data, cal.target\n",
    "feature_names = X.columns\n",
    "print(feature_names)\n",
    "\n",
    "# Train/test split\n",
    "X_train, X_test, y_train, y_test = train_test_split(X, y, test_size=0.20, random_state=0)"
   ]
  },
  {
   "cell_type": "code",
   "execution_count": null,
   "metadata": {
    "id": "PEYTEFsSXMk2"
   },
   "outputs": [],
   "source": [
    "# your code here"
   ]
  },
  {
   "cell_type": "markdown",
   "metadata": {
    "id": "QkSVMB7HXSZB"
   },
   "source": [
    "# 5. Classification Analysis\n",
    "Diagnostic Wisconsin Breast Cancer Database  \n",
    "https://scikit-learn.org/stable/datasets/toy_dataset.html#breast-cancer-dataset"
   ]
  },
  {
   "cell_type": "code",
   "execution_count": null,
   "metadata": {
    "id": "vUfQhEk7zQBX"
   },
   "outputs": [],
   "source": [
    "import numpy as np\n",
    "import pandas as pd\n",
    "import matplotlib.pyplot as plt\n",
    "from sklearn.datasets import load_breast_cancer\n",
    "from sklearn.model_selection import train_test_split\n",
    "from sklearn.preprocessing import StandardScaler"
   ]
  },
  {
   "cell_type": "code",
   "execution_count": null,
   "metadata": {
    "colab": {
     "base_uri": "https://localhost:8080/"
    },
    "id": "IGeihULRzZxD",
    "outputId": "b7cff0d4-9149-4208-c92c-6fedb809d25b"
   },
   "outputs": [
    {
     "name": "stdout",
     "output_type": "stream",
     "text": [
      "Index(['mean radius', 'mean texture', 'mean perimeter', 'mean area',\n",
      "       'mean smoothness', 'mean compactness', 'mean concavity',\n",
      "       'mean concave points', 'mean symmetry', 'mean fractal dimension',\n",
      "       'radius error', 'texture error', 'perimeter error', 'area error',\n",
      "       'smoothness error', 'compactness error', 'concavity error',\n",
      "       'concave points error', 'symmetry error', 'fractal dimension error',\n",
      "       'worst radius', 'worst texture', 'worst perimeter', 'worst area',\n",
      "       'worst smoothness', 'worst compactness', 'worst concavity',\n",
      "       'worst concave points', 'worst symmetry', 'worst fractal dimension'],\n",
      "      dtype='object')\n"
     ]
    }
   ],
   "source": [
    "# Load Breast Cancer Wisconsin Dataset\n",
    "data = load_breast_cancer(as_frame=True)\n",
    "X = data.data\n",
    "y = data.target                  # 0 = malignant, 1 = benign\n",
    "feature_names = X.columns\n",
    "label_names = {0: \"malignant\", 1: \"benign\"}\n",
    "print(feature_names)\n",
    "\n",
    "# Train/Test Split (stratified to preserve class balance)\n",
    "X_train, X_test, y_train, y_test = train_test_split(X, y, test_size=0.20, random_state=0, stratify=y)\n",
    "\n",
    "# Preprocess Data (fit on train ONLY; then transform both)\n",
    "scaler = StandardScaler(with_mean=True, with_std=True)\n",
    "X_train_std = scaler.fit_transform(X_train)   # fit on train\n",
    "X_test_std  = scaler.transform(X_test)        # transform test with train stats"
   ]
  },
  {
   "cell_type": "code",
   "execution_count": null,
   "metadata": {
    "id": "QUYeDq2ZXY2x"
   },
   "outputs": [],
   "source": [
    "# your code here"
   ]
  }
 ],
 "metadata": {
  "colab": {
   "provenance": []
  },
  "kernelspec": {
   "display_name": "Python 3 (ipykernel)",
   "language": "python",
   "name": "python3"
  },
  "language_info": {
   "codemirror_mode": {
    "name": "ipython",
    "version": 3
   },
   "file_extension": ".py",
   "mimetype": "text/x-python",
   "name": "python",
   "nbconvert_exporter": "python",
   "pygments_lexer": "ipython3",
   "version": "3.12.4"
  }
 },
 "nbformat": 4,
 "nbformat_minor": 4
}
